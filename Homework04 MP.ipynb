{
 "cells": [
  {
   "cell_type": "markdown",
   "metadata": {},
   "source": [
    "<center>\n",
    "<h1>Python</h1>\n",
    "<h2>Spring 2021, YSU</h2>\n",
    "</br></br>\n",
    "<h1>Homework 04</h2>\n",
    "</center>"
   ]
  },
  {
   "cell_type": "code",
   "execution_count": 131,
   "metadata": {},
   "outputs": [],
   "source": [
    "import matplotlib.pyplot as plt\n",
    "import numpy as np\n",
    "import matplotlib.image as mpimg"
   ]
  },
  {
   "cell_type": "markdown",
   "metadata": {},
   "source": [
    "## Problem 01, `math` package"
   ]
  },
  {
   "cell_type": "markdown",
   "metadata": {},
   "source": [
    "- Without using the `numpy` package, and only using the `math` package, plot the graph of the following functions:\n",
    "\n",
    "    * $f(x) = x\\cdot \\sin\\dfrac{1}{x}$, $x\\in[-1,1]$\n",
    "    * $f(x) = \\ln\\left(1+e^{-2x}\\right)$, $x\\in[-2,2]$"
   ]
  },
  {
   "cell_type": "code",
   "execution_count": 11,
   "metadata": {},
   "outputs": [
    {
     "data": {
      "image/png": "[encoded data removed]",
      "text/plain": [
       "<Figure size 432x288 with 1 Axes>"
      ]
     },
     "metadata": {
      "needs_background": "light"
     },
     "output_type": "display_data"
    }
   ],
   "source": [
    "x=np.linspace(-1,1,100)\n",
    "y=np.sin(1/x)\n",
    "z=x\n",
    "plt.plot(x,(y*z))\n",
    "plt.show() "
   ]
  },
  {
   "cell_type": "code",
   "execution_count": 39,
   "metadata": {},
   "outputs": [
    {
     "data": {
      "image/png": "[encoded data removed]",
      "text/plain": [
       "<Figure size 432x288 with 1 Axes>"
      ]
     },
     "metadata": {
      "needs_background": "light"
     },
     "output_type": "display_data"
    }
   ],
   "source": [
    "one=1\n",
    "two=2\n",
    "x=np.linspace(-2,2,100)\n",
    "y = (np.exp(-two*x)) + one\n",
    "z=np.log(y)\n",
    "plt.plot(x,(y*z))\n",
    "plt.show() "
   ]
  },
  {
   "cell_type": "markdown",
   "metadata": {},
   "source": [
    "## Problem 02, `numpy` package"
   ]
  },
  {
   "cell_type": "markdown",
   "metadata": {},
   "source": [
    "Here, in this section, by writing `array` we will mean `ndarray`, i.e., numpy array"
   ]
  },
  {
   "cell_type": "markdown",
   "metadata": {},
   "source": [
    "- Create a 1D numpy array containing the values in the same order [1,4,11,2,0,5, 2], and get the even-indiced elements"
   ]
  },
  {
   "cell_type": "code",
   "execution_count": 17,
   "metadata": {},
   "outputs": [
    {
     "data": {
      "text/plain": [
       "array([ 1,  4, 11,  2,  0,  5,  2])"
      ]
     },
     "execution_count": 17,
     "metadata": {},
     "output_type": "execute_result"
    }
   ],
   "source": [
    "l=[1,4,11,2,0,5, 2]\n",
    "a=np.array(l)\n",
    "a"
   ]
  },
  {
   "cell_type": "code",
   "execution_count": null,
   "metadata": {},
   "outputs": [],
   "source": []
  },
  {
   "cell_type": "markdown",
   "metadata": {},
   "source": [
    "- Create a 1D array consisting of the number 3, repeated 10 times"
   ]
  },
  {
   "cell_type": "code",
   "execution_count": 37,
   "metadata": {},
   "outputs": [
    {
     "data": {
      "text/plain": [
       "array([3., 3., 3., 3., 3., 3., 3., 3., 3., 3.])"
      ]
     },
     "execution_count": 37,
     "metadata": {},
     "output_type": "execute_result"
    }
   ],
   "source": [
    "b=np.ones(10)*3\n",
    "b"
   ]
  },
  {
   "cell_type": "markdown",
   "metadata": {},
   "source": [
    "- Create a 1D array consisting of all integers between 10 and 99 (included), i.e., 10,11, 12,..., 98, 99"
   ]
  },
  {
   "cell_type": "code",
   "execution_count": 41,
   "metadata": {},
   "outputs": [
    {
     "data": {
      "text/plain": [
       "array([10, 11, 12, 13, 14, 15, 16, 17, 18, 19, 20, 21, 22, 23, 24, 25, 26,\n",
       "       27, 28, 29, 30, 31, 32, 33, 34, 35, 36, 37, 38, 39, 40, 41, 42, 43,\n",
       "       44, 45, 46, 47, 48, 49, 50, 51, 52, 53, 54, 55, 56, 57, 58, 59, 60,\n",
       "       61, 62, 63, 64, 65, 66, 67, 68, 69, 70, 71, 72, 73, 74, 75, 76, 77,\n",
       "       78, 79, 80, 81, 82, 83, 84, 85, 86, 87, 88, 89, 90, 91, 92, 93, 94,\n",
       "       95, 96, 97, 98, 99])"
      ]
     },
     "execution_count": 41,
     "metadata": {},
     "output_type": "execute_result"
    }
   ],
   "source": [
    "c=np.arange(10,100)\n",
    "c"
   ]
  },
  {
   "cell_type": "markdown",
   "metadata": {},
   "source": [
    "- Create a 1D array of the elements 1, 1.5, 2, 2.5, ..., 99, 99.5, 100"
   ]
  },
  {
   "cell_type": "code",
   "execution_count": 45,
   "metadata": {},
   "outputs": [
    {
     "data": {
      "text/plain": [
       "array([  1. ,   1.5,   2. ,   2.5,   3. ,   3.5,   4. ,   4.5,   5. ,\n",
       "         5.5,   6. ,   6.5,   7. ,   7.5,   8. ,   8.5,   9. ,   9.5,\n",
       "        10. ,  10.5,  11. ,  11.5,  12. ,  12.5,  13. ,  13.5,  14. ,\n",
       "        14.5,  15. ,  15.5,  16. ,  16.5,  17. ,  17.5,  18. ,  18.5,\n",
       "        19. ,  19.5,  20. ,  20.5,  21. ,  21.5,  22. ,  22.5,  23. ,\n",
       "        23.5,  24. ,  24.5,  25. ,  25.5,  26. ,  26.5,  27. ,  27.5,\n",
       "        28. ,  28.5,  29. ,  29.5,  30. ,  30.5,  31. ,  31.5,  32. ,\n",
       "        32.5,  33. ,  33.5,  34. ,  34.5,  35. ,  35.5,  36. ,  36.5,\n",
       "        37. ,  37.5,  38. ,  38.5,  39. ,  39.5,  40. ,  40.5,  41. ,\n",
       "        41.5,  42. ,  42.5,  43. ,  43.5,  44. ,  44.5,  45. ,  45.5,\n",
       "        46. ,  46.5,  47. ,  47.5,  48. ,  48.5,  49. ,  49.5,  50. ,\n",
       "        50.5,  51. ,  51.5,  52. ,  52.5,  53. ,  53.5,  54. ,  54.5,\n",
       "        55. ,  55.5,  56. ,  56.5,  57. ,  57.5,  58. ,  58.5,  59. ,\n",
       "        59.5,  60. ,  60.5,  61. ,  61.5,  62. ,  62.5,  63. ,  63.5,\n",
       "        64. ,  64.5,  65. ,  65.5,  66. ,  66.5,  67. ,  67.5,  68. ,\n",
       "        68.5,  69. ,  69.5,  70. ,  70.5,  71. ,  71.5,  72. ,  72.5,\n",
       "        73. ,  73.5,  74. ,  74.5,  75. ,  75.5,  76. ,  76.5,  77. ,\n",
       "        77.5,  78. ,  78.5,  79. ,  79.5,  80. ,  80.5,  81. ,  81.5,\n",
       "        82. ,  82.5,  83. ,  83.5,  84. ,  84.5,  85. ,  85.5,  86. ,\n",
       "        86.5,  87. ,  87.5,  88. ,  88.5,  89. ,  89.5,  90. ,  90.5,\n",
       "        91. ,  91.5,  92. ,  92.5,  93. ,  93.5,  94. ,  94.5,  95. ,\n",
       "        95.5,  96. ,  96.5,  97. ,  97.5,  98. ,  98.5,  99. ,  99.5,\n",
       "       100. ])"
      ]
     },
     "execution_count": 45,
     "metadata": {},
     "output_type": "execute_result"
    }
   ],
   "source": [
    "d=np.arange(1,100.5,0.5)\n",
    "d"
   ]
  },
  {
   "cell_type": "markdown",
   "metadata": {},
   "source": [
    "- Create a 1D array of length 25 consisting of all zeros, except the 12th element, which is 5"
   ]
  },
  {
   "cell_type": "code",
   "execution_count": 50,
   "metadata": {},
   "outputs": [
    {
     "data": {
      "text/plain": [
       "array([0., 0., 0., 0., 0., 0., 0., 0., 0., 0., 0., 0., 5., 0., 0., 0., 0.,\n",
       "       0., 0., 0., 0., 0., 0., 0., 0.])"
      ]
     },
     "execution_count": 50,
     "metadata": {},
     "output_type": "execute_result"
    }
   ],
   "source": [
    "e=np.zeros(25)\n",
    "e[12]=5\n",
    "e"
   ]
  },
  {
   "cell_type": "markdown",
   "metadata": {},
   "source": [
    "- Create a matrix of size $5\\times 5$, which consists of all zeros, except on the boundary, where all boundary elements are equal to 1"
   ]
  },
  {
   "cell_type": "code",
   "execution_count": 57,
   "metadata": {},
   "outputs": [
    {
     "data": {
      "text/plain": [
       "array([[0., 0., 0., 0., 0.],\n",
       "       [0., 0., 0., 0., 0.],\n",
       "       [0., 0., 0., 0., 0.],\n",
       "       [0., 0., 0., 0., 0.],\n",
       "       [0., 0., 0., 0., 0.]])"
      ]
     },
     "execution_count": 57,
     "metadata": {},
     "output_type": "execute_result"
    }
   ],
   "source": [
    "f=np.zeros(25)\n",
    "f=f.reshape(5,5)\n",
    "f"
   ]
  },
  {
   "cell_type": "code",
   "execution_count": 64,
   "metadata": {},
   "outputs": [
    {
     "data": {
      "text/plain": [
       "array([[1., 1., 1., 1., 1.],\n",
       "       [1., 0., 0., 0., 1.],\n",
       "       [1., 0., 0., 0., 1.],\n",
       "       [1., 0., 0., 0., 1.],\n",
       "       [1., 1., 1., 1., 1.]])"
      ]
     },
     "execution_count": 64,
     "metadata": {},
     "output_type": "execute_result"
    }
   ],
   "source": [
    "f[0]=1\n",
    "f[-1]=1\n",
    "f[:,-1]=1\n",
    "f[:,0]=1\n",
    "f"
   ]
  },
  {
   "cell_type": "markdown",
   "metadata": {},
   "source": [
    "- Create a 1D vector of the form 1,0, 2, 0, 3, 0,..., 50,0"
   ]
  },
  {
   "cell_type": "code",
   "execution_count": null,
   "metadata": {},
   "outputs": [],
   "source": [
    "g"
   ]
  },
  {
   "cell_type": "markdown",
   "metadata": {},
   "source": [
    "- Create the following matrix:\n",
    "$$\n",
    "\\begin{array}{cccc}\n",
    "1 & 0 & 2 & 0 & 3\\\\\n",
    "0 & 4 & 0 & 5 & 0\\\\\n",
    "6 & 0 & 7 & 0 & 8\\\\\n",
    "\\vdots & \\vdots & \\vdots & \\vdots & \\vdots\\\\\n",
    "21 & 0 & 22 & 0 & 23\n",
    "\\end{array}\n",
    "$$"
   ]
  },
  {
   "cell_type": "code",
   "execution_count": 67,
   "metadata": {},
   "outputs": [
    {
     "data": {
      "text/plain": [
       "array([[ 1.,  0.,  2.,  0.,  3.],\n",
       "       [ 0.,  4.,  0.,  5.,  0.],\n",
       "       [ 6.,  0.,  7.,  0.,  8.],\n",
       "       [ 0.,  9.,  0., 10.,  0.],\n",
       "       [11.,  0., 12.,  0., 13.],\n",
       "       [ 0., 14.,  0., 15.,  0.],\n",
       "       [16.,  0., 17.,  0., 18.],\n",
       "       [ 0., 19.,  0., 20.,  0.],\n",
       "       [21.,  0., 22.,  0., 23.]])"
      ]
     },
     "execution_count": 67,
     "metadata": {},
     "output_type": "execute_result"
    }
   ],
   "source": [
    "\n",
    "amm=np.zeros(45).reshape(-1,5)\n",
    "l=0\n",
    "boo=True\n",
    "for i in range(len(amm)):\n",
    "    for j in range(len(amm[i])):\n",
    "        \n",
    "        if boo:\n",
    "            l=l+1\n",
    "            amm[i,j]=l\n",
    "        \n",
    "            boo=False\n",
    "        else:\n",
    "            boo=True\n",
    "amm"
   ]
  },
  {
   "cell_type": "markdown",
   "metadata": {},
   "source": [
    "- Keep in the variable `mm` the copy of the upper left $3\\times 3$ minor of the above matrix. Change one of the values in `mm` and see if the values of the original matrix are changing"
   ]
  },
  {
   "cell_type": "code",
   "execution_count": 75,
   "metadata": {},
   "outputs": [
    {
     "data": {
      "text/plain": [
       "array([[ 1.,  0.,  2.,  0.,  3.],\n",
       "       [ 0.,  4.,  0.,  5.,  0.],\n",
       "       [ 6.,  0.,  7.,  0.,  8.],\n",
       "       [ 0.,  9.,  0., 10.,  0.],\n",
       "       [11.,  0., 12.,  0., 13.],\n",
       "       [ 0., 14.,  0., 15.,  0.],\n",
       "       [16.,  0., 17.,  0., 18.],\n",
       "       [ 0., 19.,  0., 20.,  0.],\n",
       "       [21.,  0., 22.,  0., 23.]])"
      ]
     },
     "execution_count": 75,
     "metadata": {},
     "output_type": "execute_result"
    }
   ],
   "source": [
    "mm=amm.flatten()\n",
    "mm=mm.reshape(-1,5)\n",
    "mm"
   ]
  },
  {
   "cell_type": "code",
   "execution_count": 77,
   "metadata": {},
   "outputs": [
    {
     "data": {
      "text/plain": [
       "array([[ 1., 15.,  2.,  0.,  3.],\n",
       "       [ 0.,  4.,  0.,  5.,  0.],\n",
       "       [ 6.,  0.,  7.,  0.,  8.],\n",
       "       [ 0.,  9.,  0., 10.,  0.],\n",
       "       [11.,  0., 12.,  0., 13.],\n",
       "       [ 0., 14.,  0., 15.,  0.],\n",
       "       [16.,  0., 17.,  0., 18.],\n",
       "       [ 0., 19.,  0., 20.,  0.],\n",
       "       [21.,  0., 22.,  0., 23.]])"
      ]
     },
     "execution_count": 77,
     "metadata": {},
     "output_type": "execute_result"
    }
   ],
   "source": [
    "mm[0][1]=15\n",
    "mm"
   ]
  },
  {
   "cell_type": "code",
   "execution_count": 96,
   "metadata": {},
   "outputs": [
    {
     "data": {
      "text/plain": [
       "array([[ 1.,  0.,  2.,  0.,  3.],\n",
       "       [ 0.,  4.,  0.,  5.,  0.],\n",
       "       [ 6.,  0.,  7.,  0.,  8.],\n",
       "       [ 0.,  9.,  0., 10.,  0.],\n",
       "       [11.,  0., 12.,  0., 13.],\n",
       "       [ 0., 14.,  0., 15.,  0.],\n",
       "       [16.,  0., 17.,  0., 18.],\n",
       "       [ 0., 19.,  0., 20.,  0.],\n",
       "       [21.,  0., 22.,  0., 23.]])"
      ]
     },
     "execution_count": 96,
     "metadata": {},
     "output_type": "execute_result"
    }
   ],
   "source": [
    "amm"
   ]
  },
  {
   "cell_type": "code",
   "execution_count": 79,
   "metadata": {},
   "outputs": [
    {
     "data": {
      "text/plain": [
       "array([[ 1.,  0.,  2.,  0.,  3.],\n",
       "       [ 0.,  4.,  0.,  5.,  0.],\n",
       "       [ 6.,  0.,  7.,  0.,  8.],\n",
       "       [ 0.,  9.,  0., 10.,  0.],\n",
       "       [11.,  0., 12.,  0., 13.],\n",
       "       [ 0., 14.,  0., 15.,  0.],\n",
       "       [16.,  0., 17.,  0., 18.],\n",
       "       [ 0., 19.,  0., 20.,  0.],\n",
       "       [21.,  0., 22.,  0., 23.]])"
      ]
     },
     "execution_count": 79,
     "metadata": {},
     "output_type": "execute_result"
    }
   ],
   "source": [
    "mm[0][1]=0\n",
    "mm"
   ]
  },
  {
   "cell_type": "code",
   "execution_count": 95,
   "metadata": {},
   "outputs": [
    {
     "data": {
      "text/plain": [
       "array([[1., 0., 2.],\n",
       "       [0., 4., 0.],\n",
       "       [6., 0., 7.]])"
      ]
     },
     "execution_count": 95,
     "metadata": {},
     "output_type": "execute_result"
    }
   ],
   "source": [
    "mm[np.array([0,1,2])[:,np.newaxis],np.array([0,1,2])]"
   ]
  },
  {
   "cell_type": "markdown",
   "metadata": {},
   "source": [
    "- Generate a 1D array of random uniform numbers in [-2,2], and then get the number of positive elements in that array"
   ]
  },
  {
   "cell_type": "code",
   "execution_count": 100,
   "metadata": {},
   "outputs": [
    {
     "data": {
      "text/plain": [
       "array([-1.95099212, -1.78456023, -0.14810503, -0.56807039,  1.86581823,\n",
       "        0.55010473,  0.99464827,  1.27814939, -0.06495405, -0.2083487 ,\n",
       "        0.14980462,  0.24253702, -0.92042806, -0.7007825 , -0.72430215,\n",
       "        1.14109714, -0.04518797, -0.76249583, -0.00526468, -0.6467226 ,\n",
       "        0.94550313,  1.02029571,  0.66387958,  0.53197606,  0.29675795,\n",
       "       -0.15430958, -0.63820175,  0.14406687, -1.0030251 ,  0.65326428,\n",
       "       -0.70272448,  1.99210783, -1.88876751, -1.01689778,  1.2296388 ,\n",
       "        1.37858641,  1.45526378,  0.61680367,  0.90219876, -0.91741203,\n",
       "        0.81985778,  0.71002736,  0.3055348 ,  0.98730959,  1.07803002,\n",
       "        1.74529754, -1.14113991, -1.2509383 ,  0.85826451, -0.31762287,\n",
       "        1.52898177, -1.70139206,  0.22307225,  0.7298246 , -1.40857195,\n",
       "       -1.76762956,  1.6430308 ,  0.77462393, -1.8802986 ,  0.19679188,\n",
       "        0.44280033,  0.98993555,  1.42944582, -1.35790607,  0.94213214,\n",
       "        0.34206758, -0.52427185, -0.06510878, -0.51738639, -1.97494233,\n",
       "       -0.92288342, -1.16110595, -1.62840353, -1.71132387, -0.32089825,\n",
       "       -1.17878249, -0.16528566, -0.114794  ,  0.6366837 ,  1.94317475,\n",
       "        1.62589189,  1.1229466 ,  0.43663189, -0.7041828 ,  0.91656652,\n",
       "        1.36036391,  1.18968185,  1.20167238,  1.99100522, -0.36996776,\n",
       "        0.17399725,  1.39541504, -0.33403402,  0.39695212, -1.70595799,\n",
       "        0.08745476,  1.67498464, -0.38599047, -0.03534075,  0.29719975])"
      ]
     },
     "execution_count": 100,
     "metadata": {},
     "output_type": "execute_result"
    }
   ],
   "source": [
    "h=4*np.random.rand(100)-2\n",
    "h"
   ]
  },
  {
   "cell_type": "code",
   "execution_count": 105,
   "metadata": {},
   "outputs": [
    {
     "data": {
      "text/plain": [
       "array([1.86581823, 0.55010473, 0.99464827, 1.27814939, 0.14980462,\n",
       "       0.24253702, 1.14109714, 0.94550313, 1.02029571, 0.66387958,\n",
       "       0.53197606, 0.29675795, 0.14406687, 0.65326428, 1.99210783,\n",
       "       1.2296388 , 1.37858641, 1.45526378, 0.61680367, 0.90219876,\n",
       "       0.81985778, 0.71002736, 0.3055348 , 0.98730959, 1.07803002,\n",
       "       1.74529754, 0.85826451, 1.52898177, 0.22307225, 0.7298246 ,\n",
       "       1.6430308 , 0.77462393, 0.19679188, 0.44280033, 0.98993555,\n",
       "       1.42944582, 0.94213214, 0.34206758, 0.6366837 , 1.94317475,\n",
       "       1.62589189, 1.1229466 , 0.43663189, 0.91656652, 1.36036391,\n",
       "       1.18968185, 1.20167238, 1.99100522, 0.17399725, 1.39541504,\n",
       "       0.39695212, 0.08745476, 1.67498464, 0.29719975])"
      ]
     },
     "execution_count": 105,
     "metadata": {},
     "output_type": "execute_result"
    }
   ],
   "source": [
    "i=h[h>0]\n",
    "i"
   ]
  },
  {
   "cell_type": "markdown",
   "metadata": {},
   "source": [
    "- Generate 200 numbers from the $Poisson(6.5)$ distribution, and construct the frequency table of this dataset (i.e., keep in a 2D array the unique values of that dataset and the correcponding frequencies)"
   ]
  },
  {
   "cell_type": "code",
   "execution_count": 106,
   "metadata": {},
   "outputs": [
    {
     "data": {
      "text/plain": [
       "array([ 4,  4,  4,  8,  7,  5,  6,  6,  7,  7,  7, 11,  7,  6,  4,  5,  8,\n",
       "        7,  3,  6,  4, 11,  8,  6,  7,  6,  7,  8,  3,  5,  7,  3,  7,  3,\n",
       "        4,  4,  6,  5,  5,  7,  5,  5, 11,  7,  7,  7,  8,  8,  4,  8,  7,\n",
       "       11,  3,  7,  8,  4,  9,  7,  4,  6, 11,  5,  2,  3,  4,  7,  7,  3,\n",
       "        9,  8,  3,  2,  8,  7,  5,  5,  4,  8,  3,  2,  4,  7,  2,  5,  9,\n",
       "        4, 10,  8,  6,  3,  7,  9,  9,  6,  4,  5,  6,  9,  2,  1,  7,  7,\n",
       "        9,  7,  4,  8,  1,  7,  4,  6,  7,  7,  7,  8,  5,  8,  8,  8,  5,\n",
       "        6, 12,  6,  6,  4,  6,  9,  2,  7,  5,  6, 12,  7,  2, 10,  3,  5,\n",
       "        6,  9,  5,  7,  6,  7,  4,  6,  2,  7,  6,  5,  2,  2,  8,  6,  5,\n",
       "        9,  9,  5,  4,  4,  9,  9,  5, 10, 12,  2,  4,  6,  8,  9,  6,  1,\n",
       "       16, 12,  4,  4,  8,  8,  8,  6,  8, 13,  5,  5,  7,  7,  9,  5,  8,\n",
       "        7,  9,  9,  3,  5,  5,  4,  5,  6, 13,  5,  8,  9])"
      ]
     },
     "execution_count": 106,
     "metadata": {},
     "output_type": "execute_result"
    }
   ],
   "source": [
    "s = np.random.poisson(6.5, 200)\n",
    "s"
   ]
  },
  {
   "cell_type": "code",
   "execution_count": 114,
   "metadata": {},
   "outputs": [
    {
     "data": {
      "text/plain": [
       "array([[ 1,  3],\n",
       "       [ 2, 11],\n",
       "       [ 3, 12],\n",
       "       [ 4, 25],\n",
       "       [ 5, 28],\n",
       "       [ 6, 26],\n",
       "       [ 7, 37],\n",
       "       [ 8, 25],\n",
       "       [ 9, 18],\n",
       "       [10,  3],\n",
       "       [11,  5],\n",
       "       [12,  4],\n",
       "       [13,  2],\n",
       "       [16,  1]], dtype=int64)"
      ]
     },
     "execution_count": 114,
     "metadata": {},
     "output_type": "execute_result"
    }
   ],
   "source": [
    "unique, counts = np.unique(s, return_counts=True)\n",
    "\n",
    "np.asarray((unique, counts)).T"
   ]
  },
  {
   "cell_type": "markdown",
   "metadata": {},
   "source": [
    "- Generate 1000 random numbers from the $Exp(1.2)$ Distribution, and construct the histogram of that Dataset with 20 bins"
   ]
  },
  {
   "cell_type": "code",
   "execution_count": 116,
   "metadata": {},
   "outputs": [],
   "source": [
    "from scipy import stats\n",
    "expo=stats.expon(0.4)\n",
    "gen=expo.rvs(200)"
   ]
  },
  {
   "cell_type": "code",
   "execution_count": 119,
   "metadata": {},
   "outputs": [
    {
     "data": {
      "image/png": "[encoded data removed]",
      "text/plain": [
       "<Figure size 432x288 with 1 Axes>"
      ]
     },
     "metadata": {
      "needs_background": "light"
     },
     "output_type": "display_data"
    }
   ],
   "source": [
    "plt.hist(gen, bins=20);"
   ]
  },
  {
   "cell_type": "markdown",
   "metadata": {},
   "source": [
    "- Create a matrix of size $15\\times 15$ of standard normally distributed numbers, \n",
    "    * calculate the sum of all elements \n",
    "    * calculate the sum of elements in each row\n",
    "    * calculate the sum of elements in each column\n",
    "    * calculate the mean of all elements\n",
    "    * calculate the mean of elements in each row    "
   ]
  },
  {
   "cell_type": "code",
   "execution_count": 124,
   "metadata": {},
   "outputs": [],
   "source": [
    "matrix = [ [np.random.normal() for i in range(15)]    for j in range(15) ]\n",
    "matrix = np.array(matrix)\n"
   ]
  },
  {
   "cell_type": "code",
   "execution_count": 125,
   "metadata": {},
   "outputs": [
    {
     "data": {
      "text/plain": [
       "array([-6.57458475,  0.21019547,  8.50378631, -1.49370797, -2.78237501,\n",
       "       -5.12439115,  6.37782717,  3.73375619,  3.12072548, -7.28196076,\n",
       "       -7.46017942, -6.90991052, -3.61046227, -3.31581391,  3.13076608])"
      ]
     },
     "execution_count": 125,
     "metadata": {},
     "output_type": "execute_result"
    }
   ],
   "source": [
    "sumcol = matrix.sum(axis=0)\n",
    "sumcol"
   ]
  },
  {
   "cell_type": "code",
   "execution_count": 127,
   "metadata": {},
   "outputs": [
    {
     "data": {
      "text/plain": [
       "array([-3.42208512, -6.98303069,  5.44114675, -1.25154787,  3.01685184,\n",
       "       -7.22262198,  3.12743097, -2.25331498, -5.52166608,  0.09711183,\n",
       "       -3.61022689,  0.29235266,  1.8240914 , -0.64711541, -2.36370548])"
      ]
     },
     "execution_count": 127,
     "metadata": {},
     "output_type": "execute_result"
    }
   ],
   "source": [
    "sumrow = matrix.sum(axis=1)\n",
    "sumrow"
   ]
  },
  {
   "cell_type": "code",
   "execution_count": 128,
   "metadata": {},
   "outputs": [
    {
     "data": {
      "text/plain": [
       "-0.0865614624500227"
      ]
     },
     "execution_count": 128,
     "metadata": {},
     "output_type": "execute_result"
    }
   ],
   "source": [
    "np.mean(matrix)"
   ]
  },
  {
   "cell_type": "code",
   "execution_count": 129,
   "metadata": {},
   "outputs": [
    {
     "data": {
      "text/plain": [
       "array([-0.22813901, -0.46553538,  0.36274312, -0.08343652,  0.20112346,\n",
       "       -0.48150813,  0.2084954 , -0.150221  , -0.36811107,  0.00647412,\n",
       "       -0.24068179,  0.01949018,  0.12160609, -0.04314103, -0.15758037])"
      ]
     },
     "execution_count": 129,
     "metadata": {},
     "output_type": "execute_result"
    }
   ],
   "source": [
    "np.mean(matrix, axis=1)"
   ]
  },
  {
   "cell_type": "markdown",
   "metadata": {},
   "source": [
    "- Read, in the array `im`, the image at \n",
    "\n",
    "[https://static.wixstatic.com/media/2cd43b_de870a7313e1454da9573de5162b4bd5~mv2_d_1750_1209_s_2.png](https://static.wixstatic.com/media/2cd43b_de870a7313e1454da9573de5162b4bd5~mv2_d_1750_1209_s_2.png) . \n"
   ]
  },
  {
   "cell_type": "markdown",
   "metadata": {},
   "source": [
    "* Now,\n",
    "    * Show the shape of that array. \n",
    "    * Take the first layer of that array, keep it in `img`, and show that array as an image, in the gray colormap.  \n",
    "    * make the negative of that image and show it\n",
    "    * flip the image horizontally\n",
    "    * take the central $300\\times300$ part of the image, keep it in `imc` and show that\n",
    "    * zoom the central part image, `imc` 2 times, by introducing a new array `imz` of size $600\\times600$\n",
    "    * now, generate a matrix of normally distributed random numbers with mean 0 and standard deviation 0.1, keep it in the array `noise`, and add that noise to the array `imc`. Plot the obtained noisy image "
   ]
  },
  {
   "cell_type": "code",
   "execution_count": 132,
   "metadata": {},
   "outputs": [
    {
     "name": "stdout",
     "output_type": "stream",
     "text": [
      "[[[104 104 104]\n",
      "  [104 104 104]\n",
      "  [104 104 104]\n",
      "  ...\n",
      "  [109 109 109]\n",
      "  [109 109 109]\n",
      "  [109 109 109]]\n",
      "\n",
      " [[105 105 105]\n",
      "  [105 105 105]\n",
      "  [105 105 105]\n",
      "  ...\n",
      "  [109 109 109]\n",
      "  [109 109 109]\n",
      "  [109 109 109]]\n",
      "\n",
      " [[107 107 107]\n",
      "  [106 106 106]\n",
      "  [106 106 106]\n",
      "  ...\n",
      "  [110 110 110]\n",
      "  [110 110 110]\n",
      "  [110 110 110]]\n",
      "\n",
      " ...\n",
      "\n",
      " [[112 112 112]\n",
      "  [111 111 111]\n",
      "  [110 110 110]\n",
      "  ...\n",
      "  [116 116 116]\n",
      "  [115 115 115]\n",
      "  [115 115 115]]\n",
      "\n",
      " [[113 113 113]\n",
      "  [113 113 113]\n",
      "  [112 112 112]\n",
      "  ...\n",
      "  [115 115 115]\n",
      "  [114 114 114]\n",
      "  [114 114 114]]\n",
      "\n",
      " [[113 113 113]\n",
      "  [115 115 115]\n",
      "  [115 115 115]\n",
      "  ...\n",
      "  [114 114 114]\n",
      "  [114 114 114]\n",
      "  [113 113 113]]]\n"
     ]
    }
   ],
   "source": [
    "img = mpimg.imread('C:/Users/Anahit/Downloads/stinkbug.png', format=\"jpg\")\n",
    "print(img)"
   ]
  },
  {
   "cell_type": "code",
   "execution_count": 133,
   "metadata": {},
   "outputs": [
    {
     "data": {
      "text/plain": [
       "(375, 500, 3)"
      ]
     },
     "execution_count": 133,
     "metadata": {},
     "output_type": "execute_result"
    }
   ],
   "source": [
    "img.shape"
   ]
  },
  {
   "cell_type": "code",
   "execution_count": 134,
   "metadata": {},
   "outputs": [
    {
     "data": {
      "text/plain": [
       "(375, 500)"
      ]
     },
     "execution_count": 134,
     "metadata": {},
     "output_type": "execute_result"
    }
   ],
   "source": [
    "img0=img[:,:,0]\n",
    "img0.shape"
   ]
  },
  {
   "cell_type": "code",
   "execution_count": 135,
   "metadata": {},
   "outputs": [
    {
     "data": {
      "text/plain": [
       "<matplotlib.image.AxesImage at 0x27e9ca8a188>"
      ]
     },
     "execution_count": 135,
     "metadata": {},
     "output_type": "execute_result"
    },
    {
     "data": {
      "image/png": "[encoded data removed]",
      "text/plain": [
       "<Figure size 432x288 with 1 Axes>"
      ]
     },
     "metadata": {
      "needs_background": "light"
     },
     "output_type": "display_data"
    }
   ],
   "source": [
    "plt.imshow(img0, cmap=\"gray\")"
   ]
  },
  {
   "cell_type": "code",
   "execution_count": null,
   "metadata": {},
   "outputs": [],
   "source": []
  },
  {
   "cell_type": "code",
   "execution_count": null,
   "metadata": {},
   "outputs": [],
   "source": []
  },
  {
   "cell_type": "markdown",
   "metadata": {},
   "source": [
    "## Problem 03, Applications"
   ]
  },
  {
   "cell_type": "markdown",
   "metadata": {},
   "source": [
    "- One of the methods to calculate numerically $\\sqrt{a}$ for a positive $a$ consists of the following: we define the recurrent sequence\n",
    "$$\n",
    "x_0 = 1,  \\qquad x_{n+1} = \\dfrac{1}{2}\\cdot\\left(x_n+\\dfrac{a}{x_n}\\right), \\quad n\\ge 0.\n",
    "$$\n",
    "\n",
    "Write a function, which will calculate $x_n$ for given $n$ and $a>0$.\n"
   ]
  },
  {
   "cell_type": "markdown",
   "metadata": {},
   "source": [
    "- Using the above function, for $a=2$, calculate the error (absolute difference) between $x_n$ and $\\sqrt{a}$ and plot the graph of that error vs $n$, for $n=0,...,20$."
   ]
  },
  {
   "cell_type": "markdown",
   "metadata": {},
   "source": [
    "- Write a function to solve quadratic equations. You need to give your function $a,b,c$, and it needs to return the solution(s) of \n",
    "$$\n",
    "ax^2 + bx +c = 0.\n",
    "$$\n",
    "In the case when the solution doesn't exists, the function needs to inform about that."
   ]
  },
  {
   "cell_type": "markdown",
   "metadata": {},
   "source": [
    "- Define the function PV, which will calculate the Present Value of a Cash Flow. Input parameters of PV need to be the array of  Cash amounts, the array of time instances, when that amounts are arriving, and the compound interest rate $i$"
   ]
  },
  {
   "cell_type": "markdown",
   "metadata": {},
   "source": [
    "- The Euler method to solve numerically the first order Differential Equation \n",
    "$$\n",
    "y'=f(x,y), \\qquad x\\in[a,b] \\qquad\\qquad (*)\n",
    "$$\n",
    "with the initial condition $y(a)= y_0$, consists of the following:\n",
    "    * we take a mesh of points on $[a,b]$: \n",
    "    $$\n",
    "    x_k = a +h\\cdot k, \\qquad k=0,...,n\n",
    "    $$\n",
    "      where $h=\\dfrac{b-a}{n}$\n",
    "    * we denote $y_k = y(x_k)$, where $y(x)$ is the solution of our Differential Equation\n",
    "    * we write the equation $(*)$ at the points $x_k$:\n",
    "    $$\n",
    "    y'(x_k) = f(x_k, y_k) \\qquad k=0,1,2,...,n-1\\qquad\\qquad (**)\n",
    "    $$\n",
    "    * we approximate the derivative $y'(x_k)$ by \n",
    "    $$\n",
    "    y'(x_k)\\approx \\dfrac{y(x_{k+1})-y(x_k)}{x_{k+1}-x_k}=\\dfrac{y(x_{k+1})-y(x_k)}{h}\n",
    "    $$\n",
    "    * Now we plug this approximation into $(**)$ to obtain\n",
    "    $$\n",
    "    \\dfrac{y(x_{k+1})-y(x_k)}{h}\\approx f(x_k, y_k) \\qquad k=0,1,2,...,n-1,\n",
    "    $$\n",
    "    or, equivalently,\n",
    "    $$\n",
    "    y_{k+1} \\approx y_k+h\\cdot f(x_k, y_k), \\qquad k=0,1,...,n-1\n",
    "    $$\n",
    "    * in the last equation we change approximate equality to equality:\n",
    "    $$\n",
    "    y_{k+1} = y_k+h\\cdot f(x_k, y_k), \\qquad k=0,1,...,n-1\n",
    "    $$\n",
    "    and use this to calculate the values $y_k\\approx y(x_k)$.  "
   ]
  },
  {
   "cell_type": "markdown",
   "metadata": {},
   "source": [
    "Now, using the Euler method, solve approximately the Initial value problem\n",
    "$$\n",
    "\\left\\{\n",
    "\\begin{array}{ll}\n",
    "y' = -x\\cdot y, & x\\in[0,1]\\\\\n",
    "y(0) = 1\n",
    "\\end{array}\n",
    "\\right.\n",
    "$$\n",
    "plot the graph of your solution, and then draw over it the exact solution of the problem above. Separately, draw the error of the approximation, $|y(x_k)-y_k|$, at $x_k$."
   ]
  }
 ],
 "metadata": {
  "kernelspec": {
   "display_name": "Python 3",
   "language": "python",
   "name": "python3"
  },
  "language_info": {
   "codemirror_mode": {
    "name": "ipython",
    "version": 3
   },
   "file_extension": ".py",
   "mimetype": "text/x-python",
   "name": "python",
   "nbconvert_exporter": "python",
   "pygments_lexer": "ipython3",
   "version": "3.7.6"
  }
 },
 "nbformat": 4,
 "nbformat_minor": 4
}
