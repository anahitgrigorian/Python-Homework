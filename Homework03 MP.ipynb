{
 "cells": [
  {
   "cell_type": "markdown",
   "metadata": {},
   "source": [
    "<center>\n",
    "<h1>Python</h1>\n",
    "<h2>Spring 2021, YSU</h2>\n",
    "</br></br>\n",
    "<h1>Homework 03</h2>\n",
    "</center>"
   ]
  },
  {
   "cell_type": "markdown",
   "metadata": {},
   "source": [
    "## Problem 01, Dictionaries"
   ]
  },
  {
   "cell_type": "markdown",
   "metadata": {},
   "source": [
    "- Construct a Dictionary **cities_AM** that corresponds to largest 5 Armenian cities their population, say, for Yerevan, the population is 1077.6 (in thousands). You can find some data at [https://armstat.am/file/article/nasel_01.01.2018.pdf](https://armstat.am/file/article/nasel_01.01.2018.pdf)"
   ]
  },
  {
   "cell_type": "code",
   "execution_count": 53,
   "metadata": {},
   "outputs": [
    {
     "data": {
      "text/plain": [
       "{'Yerevan': 1077600,\n",
       " 'Gyumri': 114500,\n",
       " 'Vanadzor': 79300,\n",
       " 'Vagharshapat': 46400,\n",
       " 'Abovyan': 44600}"
      ]
     },
     "execution_count": 53,
     "metadata": {},
     "output_type": "execute_result"
    }
   ],
   "source": [
    "cities_AM = {\"Yerevan\": 1077600, \"Gyumri\": 114500,\"Vanadzor\": 79300, \"Vagharshapat\": 46400, \"Abovyan\":44600}\n",
    "cities_AM"
   ]
  },
  {
   "cell_type": "markdown",
   "metadata": {},
   "source": [
    "- Print the names of cities"
   ]
  },
  {
   "cell_type": "code",
   "execution_count": 54,
   "metadata": {},
   "outputs": [
    {
     "data": {
      "text/plain": [
       "dict_keys(['Yerevan', 'Gyumri', 'Vanadzor', 'Vagharshapat', 'Abovyan'])"
      ]
     },
     "execution_count": 54,
     "metadata": {},
     "output_type": "execute_result"
    }
   ],
   "source": [
    "cities_AM.keys()"
   ]
  },
  {
   "cell_type": "markdown",
   "metadata": {},
   "source": [
    "- Print the sum of population in largest 5 Armenian cities"
   ]
  },
  {
   "cell_type": "code",
   "execution_count": 55,
   "metadata": {},
   "outputs": [
    {
     "data": {
      "text/plain": [
       "1362400"
      ]
     },
     "execution_count": 55,
     "metadata": {},
     "output_type": "execute_result"
    }
   ],
   "source": [
    "sum(cities_AM.values())"
   ]
  },
  {
   "cell_type": "markdown",
   "metadata": {},
   "source": [
    "- Get the name of the second largest (by population) city in Armenia (not by a hand, of course $\\ddot{\\smile}$ )"
   ]
  },
  {
   "cell_type": "code",
   "execution_count": 56,
   "metadata": {},
   "outputs": [
    {
     "data": {
      "text/plain": [
       "46400"
      ]
     },
     "execution_count": 56,
     "metadata": {},
     "output_type": "execute_result"
    }
   ],
   "source": [
    "the_list=list(cities_AM.values())\n",
    "the_list.sort()\n",
    "the_list[1]"
   ]
  },
  {
   "cell_type": "markdown",
   "metadata": {},
   "source": [
    "- Add the 6th city with its population to the dictionary"
   ]
  },
  {
   "cell_type": "code",
   "execution_count": 57,
   "metadata": {},
   "outputs": [
    {
     "data": {
      "text/plain": [
       "{'Yerevan': 1077600,\n",
       " 'Gyumri': 114500,\n",
       " 'Vanadzor': 79300,\n",
       " 'Vagharshapat': 46400,\n",
       " 'Abovyan': 44600,\n",
       " 'Kapan': 42500}"
      ]
     },
     "execution_count": 57,
     "metadata": {},
     "output_type": "execute_result"
    }
   ],
   "source": [
    "cities_AM.update({\"Kapan\":42500})\n",
    "cities_AM"
   ]
  },
  {
   "cell_type": "markdown",
   "metadata": {},
   "source": [
    "- Find information about the surface areas of cities, and update dictionary to include tuples (population, area) for each city. "
   ]
  },
  {
   "cell_type": "code",
   "execution_count": 58,
   "metadata": {},
   "outputs": [
    {
     "data": {
      "text/plain": [
       "{'Yerevan': (1077600, 223),\n",
       " 'Gyumri': (114500, 54),\n",
       " 'Vanadzor': (79300, 32),\n",
       " 'Vagharshapat': (46400, 40),\n",
       " 'Abovyan': (44600, 11),\n",
       " 'Kapan': (42500, 36)}"
      ]
     },
     "execution_count": 58,
     "metadata": {},
     "output_type": "execute_result"
    }
   ],
   "source": [
    "area = [223,54,32,40,11,36]\n",
    "cities = [cities for cities in cities_AM]\n",
    "cities_AM.update({cities[n]: (cities_AM[cities[n]], area[n]) for n in range(len(cities_AM))})\n",
    "cities_AM"
   ]
  },
  {
   "cell_type": "markdown",
   "metadata": {},
   "source": [
    "- Construct a similar dictionary **cities_GE** for Germany 2 largest cities, and create a new Dictionary, with keys \"Armenia\", \"Germany\", and values as the constructed dictionaries"
   ]
  },
  {
   "cell_type": "code",
   "execution_count": 60,
   "metadata": {},
   "outputs": [
    {
     "data": {
      "text/plain": [
       "{'Berlin': 3520031, 'Hamburg': 1787408}"
      ]
     },
     "execution_count": 60,
     "metadata": {},
     "output_type": "execute_result"
    }
   ],
   "source": [
    "cities_GER={\"Berlin\":3520031, \"Hamburg\":1787408}\n",
    "cities_GER"
   ]
  },
  {
   "cell_type": "code",
   "execution_count": 62,
   "metadata": {},
   "outputs": [
    {
     "data": {
      "text/plain": [
       "{'Germany': {'Berlin': 3520031, 'Hamburg': 1787408},\n",
       " 'Armenia': {'Yerevan': (1077600, 223),\n",
       "  'Gyumri': (114500, 54),\n",
       "  'Vanadzor': (79300, 32),\n",
       "  'Vagharshapat': (46400, 40),\n",
       "  'Abovyan': (44600, 11),\n",
       "  'Kapan': (42500, 36)}}"
      ]
     },
     "execution_count": 62,
     "metadata": {},
     "output_type": "execute_result"
    }
   ],
   "source": [
    "GER_ARM={\"Germany\": cities_GER, \"Armenia\":cities_AM}\n",
    "GER_ARM"
   ]
  },
  {
   "cell_type": "markdown",
   "metadata": {},
   "source": [
    "## Problem 02, Control flows"
   ]
  },
  {
   "cell_type": "markdown",
   "metadata": {},
   "source": [
    "- Consider the list `x = [1, -2, 3, 9, 0, 1, 3, 2, -2, -4, 1, -3]` . Construct two lists, `x_neg` and `x_pos` containng, correspondingly, all negative and all positive elements of `x` in the same order. Costruct also lists `ind_neg` and `ind_pos` which will contain the indices of all negative and positive elements of `x`, respectively.\n"
   ]
  },
  {
   "cell_type": "code",
   "execution_count": 64,
   "metadata": {},
   "outputs": [],
   "source": [
    "x = [1, -2, 3, 9, 0, 1, 3, 2, -2, -4, 1, -3]\n",
    "x_neg=[num for num in x if num<0 ]\n",
    "x_pos=[num for num in x if num>0 ]"
   ]
  },
  {
   "cell_type": "code",
   "execution_count": 66,
   "metadata": {},
   "outputs": [
    {
     "data": {
      "text/plain": [
       "[-2, -2, -4, -3]"
      ]
     },
     "execution_count": 66,
     "metadata": {},
     "output_type": "execute_result"
    }
   ],
   "source": [
    "x_neg"
   ]
  },
  {
   "cell_type": "code",
   "execution_count": 67,
   "metadata": {},
   "outputs": [
    {
     "data": {
      "text/plain": [
       "[1, 3, 9, 1, 3, 2, 1]"
      ]
     },
     "execution_count": 67,
     "metadata": {},
     "output_type": "execute_result"
    }
   ],
   "source": [
    "x_pos"
   ]
  },
  {
   "cell_type": "code",
   "execution_count": 69,
   "metadata": {},
   "outputs": [],
   "source": [
    "ind_neg=[num for num in range(len(x)) if x[num]<0]\n",
    "ind_pos=[num for num in range(len(x)) if x[num]>0]"
   ]
  },
  {
   "cell_type": "code",
   "execution_count": 70,
   "metadata": {},
   "outputs": [
    {
     "data": {
      "text/plain": [
       "[1, 8, 9, 11]"
      ]
     },
     "execution_count": 70,
     "metadata": {},
     "output_type": "execute_result"
    }
   ],
   "source": [
    "ind_neg"
   ]
  },
  {
   "cell_type": "code",
   "execution_count": 71,
   "metadata": {},
   "outputs": [
    {
     "data": {
      "text/plain": [
       "[0, 2, 3, 5, 6, 7, 10]"
      ]
     },
     "execution_count": 71,
     "metadata": {},
     "output_type": "execute_result"
    }
   ],
   "source": [
    "ind_pos"
   ]
  },
  {
   "cell_type": "markdown",
   "metadata": {},
   "source": [
    "- Find the sum \n",
    "$$\n",
    "1+ 3+ 5 + ... + 101.\n",
    "$$"
   ]
  },
  {
   "cell_type": "code",
   "execution_count": 74,
   "metadata": {},
   "outputs": [
    {
     "data": {
      "text/plain": [
       "2601"
      ]
     },
     "execution_count": 74,
     "metadata": {},
     "output_type": "execute_result"
    }
   ],
   "source": [
    "sum(range(1,102,2))"
   ]
  },
  {
   "cell_type": "markdown",
   "metadata": {},
   "source": [
    "- Calculate the sum\n",
    "$$\n",
    "1 +\\frac{1}{2} +3 +\\frac{1}{4}+5 +\\frac{1}{6}+...+99+\\frac{1}{100}.\n",
    "$$"
   ]
  },
  {
   "cell_type": "code",
   "execution_count": 78,
   "metadata": {},
   "outputs": [
    {
     "name": "stdout",
     "output_type": "stream",
     "text": [
      "2502.2496026691656\n"
     ]
    }
   ],
   "source": [
    "sum2=0\n",
    "for num in range(1,101):\n",
    "    if num%2==0:\n",
    "        sum2+=(1/num)\n",
    "    else:\n",
    "        sum2+=num\n",
    "print(sum2)"
   ]
  },
  {
   "cell_type": "markdown",
   "metadata": {},
   "source": [
    "- Calculate the semifactorial $20!!$, without using any Python built-in factorial calculation functions (see [Wiki](https://en.wikipedia.org/wiki/Double_factorial))"
   ]
  },
  {
   "cell_type": "code",
   "execution_count": 82,
   "metadata": {},
   "outputs": [
    {
     "name": "stdout",
     "output_type": "stream",
     "text": [
      "654729075\n"
     ]
    }
   ],
   "source": [
    "semifactorial=1\n",
    "for num in range(1,21,2):\n",
    "    semifactorial=semifactorial*num\n",
    "print(semifactorial)"
   ]
  },
  {
   "cell_type": "markdown",
   "metadata": {},
   "source": [
    "- Calculate the sum \n",
    "$$\n",
    "\\sum_{k=0}^{20} \\dfrac{(-1)^k}{k!}\n",
    "$$\n",
    "without using any `factorial` function."
   ]
  },
  {
   "cell_type": "code",
   "execution_count": 92,
   "metadata": {},
   "outputs": [
    {
     "name": "stdout",
     "output_type": "stream",
     "text": [
      "0.36787944117144245\n"
     ]
    }
   ],
   "source": [
    "def factorial(n):\n",
    "    fact = 1\n",
    "    for num in range(2, n + 1):\n",
    "        fact *= num\n",
    "    return fact\n",
    "\n",
    "the_sum=0\n",
    "for num in range (0,21):\n",
    "    the_sum+=((-1)**num)/(factorial(num))\n",
    "print(the_sum)"
   ]
  },
  {
   "cell_type": "markdown",
   "metadata": {},
   "source": [
    "- It is known that \n",
    "$$\n",
    "\\sum_{k=1}^\\infty \\dfrac{k}{2^{k}} = 2.\n",
    "$$\n",
    "Calculate the sum\n",
    "$$\n",
    "S_n = \\sum_{k=1}^n \\dfrac{k}{2^{k}}\n",
    "$$\n",
    "with minimum $n$ satisfying\n",
    "$$\n",
    "|S_n - 2|\\le 0.001.\n",
    "$$"
   ]
  },
  {
   "cell_type": "markdown",
   "metadata": {},
   "source": [
    "- Given a list of real numbers, find the maximum element of that list, without using any built-in Python `max` function"
   ]
  },
  {
   "cell_type": "markdown",
   "metadata": {},
   "source": [
    "- Given a list of arbitrary reals, write a sorting algorithm to sort the list in the increasing order, without using the Python built-in sorting algorithms. You can implement `quicksort`, `bubble sort` or any other well-known algorithm, or just write a simple (maybe non-effective) algorithm."
   ]
  },
  {
   "cell_type": "markdown",
   "metadata": {},
   "source": [
    "## Problem 03, Functions"
   ]
  },
  {
   "cell_type": "markdown",
   "metadata": {},
   "source": [
    "- Define the following function in Python:\n",
    "$$\n",
    "f(x) = \\left\\{\n",
    "\\begin{array}{ll}\n",
    "-1, & x <0\\\\\n",
    "4, & 0\\le x\\le 5\\\\\n",
    "9, & x>5\n",
    "\\end{array}\n",
    "\\right.\n",
    "$$\n",
    "and calculate its value at $-4, 3$ and $7$."
   ]
  },
  {
   "cell_type": "code",
   "execution_count": 93,
   "metadata": {},
   "outputs": [],
   "source": [
    "def function_first(x):\n",
    "    if x<0:\n",
    "        return -1\n",
    "    elif x in range(0,6):\n",
    "        return 4\n",
    "    elif x>5:\n",
    "        return 9"
   ]
  },
  {
   "cell_type": "code",
   "execution_count": 94,
   "metadata": {},
   "outputs": [
    {
     "data": {
      "text/plain": [
       "4"
      ]
     },
     "execution_count": 94,
     "metadata": {},
     "output_type": "execute_result"
    }
   ],
   "source": [
    "function_first(5)"
   ]
  },
  {
   "cell_type": "markdown",
   "metadata": {},
   "source": [
    "- Define the following function in Python:\n",
    "$$\n",
    "f(x) = \\left\\{\n",
    "\\begin{array}{ll}\n",
    "1, & x <0\\ or \\ x> 10\\\\\n",
    "0, & 0\\le x\\le 10\\\\\n",
    "\\end{array}\n",
    "\\right.\n",
    "$$\n",
    "and calculate its value at $-4, 0$ and $17$."
   ]
  },
  {
   "cell_type": "code",
   "execution_count": 1,
   "metadata": {},
   "outputs": [],
   "source": [
    "def function_second(x):\n",
    "    if x in range(0, 11):\n",
    "        return 0\n",
    "    return 1\n",
    "\n"
   ]
  },
  {
   "cell_type": "code",
   "execution_count": 2,
   "metadata": {},
   "outputs": [
    {
     "data": {
      "text/plain": [
       "1"
      ]
     },
     "execution_count": 2,
     "metadata": {},
     "output_type": "execute_result"
    }
   ],
   "source": [
    "function_second(-4)"
   ]
  },
  {
   "cell_type": "markdown",
   "metadata": {},
   "source": [
    "- Implement the `Bisection Algorithm` to find the positive root of $f(x) = x^2-2$."
   ]
  },
  {
   "cell_type": "markdown",
   "metadata": {},
   "source": [
    "- Write a function of natural variable $n$ that will return the $n$-the Fibonacci number (see [Wiki](https://en.wikipedia.org/wiki/Fibonacci_number))."
   ]
  },
  {
   "cell_type": "code",
   "execution_count": 10,
   "metadata": {},
   "outputs": [],
   "source": [
    "def fibonacci_number(n):\n",
    "    fib1 = 0\n",
    "    fib2 = 1\n",
    "    while fib1 <= n:\n",
    "        print(fib1, end=' ')\n",
    "        fib3 = fib1 + fib2\n",
    "        fib1 = fib2\n",
    "        fib2 = fib3"
   ]
  },
  {
   "cell_type": "code",
   "execution_count": 11,
   "metadata": {},
   "outputs": [
    {
     "name": "stdout",
     "output_type": "stream",
     "text": [
      "0 1 1 2 3 5 8 13 "
     ]
    }
   ],
   "source": [
    "fibonacci_number(15)"
   ]
  },
  {
   "cell_type": "markdown",
   "metadata": {},
   "source": [
    "- Write a function `BinomCoeff` that will return, for any integer $n\\ge 0$, the Binomial Coeffieints of the expansion of $(a+b)^n$. For example, for $n=2$, we need to have the following triple:\n",
    "$$\n",
    "1, 2, 1,\n",
    "$$\n",
    "which are the coefficients of \n",
    "$$\n",
    "(a+b)^2 = 1\\cdot a^2 + 2\\cdot ab + 1\\cdot b^2.\n",
    "$$\n",
    "For $n=3$, we need to have\n",
    "$$\n",
    "1,3,3,1.\n",
    "$$"
   ]
  },
  {
   "cell_type": "code",
   "execution_count": null,
   "metadata": {},
   "outputs": [],
   "source": []
  }
 ],
 "metadata": {
  "kernelspec": {
   "display_name": "Python 3",
   "language": "python",
   "name": "python3"
  },
  "language_info": {
   "codemirror_mode": {
    "name": "ipython",
    "version": 3
   },
   "file_extension": ".py",
   "mimetype": "text/x-python",
   "name": "python",
   "nbconvert_exporter": "python",
   "pygments_lexer": "ipython3",
   "version": "3.7.6"
  }
 },
 "nbformat": 4,
 "nbformat_minor": 4
}
