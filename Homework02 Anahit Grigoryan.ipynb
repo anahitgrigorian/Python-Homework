{
 "cells": [
  {
   "cell_type": "markdown",
   "metadata": {},
   "source": [
    "Problem 01. Calculate the values of the Expression $\\sqrt{2^{10}+3^{10}}$"
   ]
  },
  {
   "cell_type": "code",
   "execution_count": 7,
   "metadata": {},
   "outputs": [
    {
     "data": {
      "text/plain": [
       "245.0979396078229"
      ]
     },
     "execution_count": 7,
     "metadata": {},
     "output_type": "execute_result"
    }
   ],
   "source": [
    "#1\n",
    "pow((2**10+3**10),1/2)"
   ]
  },
  {
   "cell_type": "code",
   "execution_count": 9,
   "metadata": {},
   "outputs": [
    {
     "data": {
      "text/plain": [
       "245.0979396078229"
      ]
     },
     "execution_count": 9,
     "metadata": {},
     "output_type": "execute_result"
    }
   ],
   "source": [
    "#2\n",
    "(2**10+3**10)**(1/2)"
   ]
  },
  {
   "cell_type": "markdown",
   "metadata": {},
   "source": [
    "Problem 02. Define the List X with elements '1,1,2,3,2,3,1,1,2,3,4,1'"
   ]
  },
  {
   "cell_type": "code",
   "execution_count": 58,
   "metadata": {},
   "outputs": [],
   "source": [
    "x=[1,1,2,3,2,3,1,1,2,3,4,1]"
   ]
  },
  {
   "cell_type": "code",
   "execution_count": 59,
   "metadata": {},
   "outputs": [],
   "source": [
    "#Get the length of X in the variable l"
   ]
  },
  {
   "cell_type": "code",
   "execution_count": 60,
   "metadata": {},
   "outputs": [
    {
     "data": {
      "text/plain": [
       "12"
      ]
     },
     "execution_count": 60,
     "metadata": {},
     "output_type": "execute_result"
    }
   ],
   "source": [
    "len(x)"
   ]
  },
  {
   "cell_type": "code",
   "execution_count": 61,
   "metadata": {},
   "outputs": [
    {
     "data": {
      "text/plain": [
       "[1, 1, 2, 3, 2, 3, 1, 1, 2, 3, 4, 5]"
      ]
     },
     "execution_count": 61,
     "metadata": {},
     "output_type": "execute_result"
    }
   ],
   "source": [
    "#Change the last element of X by 5\n",
    "x[-1]=5\n",
    "x"
   ]
  },
  {
   "cell_type": "code",
   "execution_count": 62,
   "metadata": {},
   "outputs": [
    {
     "data": {
      "text/plain": [
       "[1, 1, 2, 3, 2, 3, 1, 1, 2, 3, 4, 5, 5, 6, 7, 8, 9, 10]"
      ]
     },
     "execution_count": 62,
     "metadata": {},
     "output_type": "execute_result"
    }
   ],
   "source": [
    "#Add elements 5,6,7,8,9,10 at the end of the list X\n",
    "x.extend([5,6,7,8,9,10])\n",
    "x"
   ]
  },
  {
   "cell_type": "code",
   "execution_count": 3,
   "metadata": {},
   "outputs": [],
   "source": [
    "#Extract all odd-indexed elements of X in the list Y, and all even-indexed elements of X into the list Z"
   ]
  },
  {
   "cell_type": "code",
   "execution_count": 64,
   "metadata": {},
   "outputs": [
    {
     "data": {
      "text/plain": [
       "[1, 2, 2, 1, 2, 4, 5, 7, 9]"
      ]
     },
     "execution_count": 64,
     "metadata": {},
     "output_type": "execute_result"
    }
   ],
   "source": [
    "y=[char for i, char in enumerate(x) if i%2==0 ]\n",
    "y"
   ]
  },
  {
   "cell_type": "code",
   "execution_count": 65,
   "metadata": {},
   "outputs": [
    {
     "data": {
      "text/plain": [
       "[1, 3, 3, 1, 3, 5, 6, 8, 10]"
      ]
     },
     "execution_count": 65,
     "metadata": {},
     "output_type": "execute_result"
    }
   ],
   "source": [
    "z=[char for i, char in enumerate(x) if i%2!=0 ]\n",
    "z"
   ]
  },
  {
   "cell_type": "code",
   "execution_count": 66,
   "metadata": {},
   "outputs": [],
   "source": [
    "#Get all even elements of X in the list Y1 and all odd elements of X in the list Z1"
   ]
  },
  {
   "cell_type": "code",
   "execution_count": 67,
   "metadata": {},
   "outputs": [
    {
     "data": {
      "text/plain": [
       "[2, 2, 2, 4, 6, 8, 10]"
      ]
     },
     "execution_count": 67,
     "metadata": {},
     "output_type": "execute_result"
    }
   ],
   "source": [
    "y1=[num for num in x if num % 2 == 0 ]\n",
    "y1"
   ]
  },
  {
   "cell_type": "code",
   "execution_count": 68,
   "metadata": {},
   "outputs": [
    {
     "data": {
      "text/plain": [
       "[1, 1, 3, 3, 1, 1, 3, 5, 5, 7, 9]"
      ]
     },
     "execution_count": 68,
     "metadata": {},
     "output_type": "execute_result"
    }
   ],
   "source": [
    "z1=[num for num in x if num % 2 != 0 ]\n",
    "z1"
   ]
  },
  {
   "cell_type": "code",
   "execution_count": 69,
   "metadata": {},
   "outputs": [
    {
     "data": {
      "text/plain": [
       "[1, 1, 2, 3, 2, 3, 1, 1, 2, 3, 4, 5, 5, 6, 7, 8, 9, 10]"
      ]
     },
     "execution_count": 69,
     "metadata": {},
     "output_type": "execute_result"
    }
   ],
   "source": [
    "x"
   ]
  },
  {
   "cell_type": "code",
   "execution_count": 71,
   "metadata": {},
   "outputs": [
    {
     "name": "stdout",
     "output_type": "stream",
     "text": [
      "[0, 0, 2, 0, 2, 0, 0, 0, 2, 0, 4, 0, 0, 6, 0, 8, 0, 10]\n"
     ]
    }
   ],
   "source": [
    "#Replace all odd elements of X by 0\n",
    "print([num if num % 2 == 0 else 0 for num in x])"
   ]
  },
  {
   "cell_type": "code",
   "execution_count": 159,
   "metadata": {},
   "outputs": [
    {
     "name": "stdout",
     "output_type": "stream",
     "text": [
      "(1, 10)\n"
     ]
    }
   ],
   "source": [
    "#Find the maximal and minimal elements of X, without using the `max` and `min` functions\n",
    "def minmax1 (x):\n",
    "    minimum = maximum = x[0]\n",
    "    for i in x[1:]:\n",
    "        if i < minimum: \n",
    "            minimum = i \n",
    "        else: \n",
    "            if i > maximum: maximum = i\n",
    "    return (minimum,maximum)\n",
    "\n",
    "print(minmax1(x))"
   ]
  },
  {
   "cell_type": "code",
   "execution_count": 73,
   "metadata": {},
   "outputs": [
    {
     "data": {
      "text/plain": [
       "73"
      ]
     },
     "execution_count": 73,
     "metadata": {},
     "output_type": "execute_result"
    }
   ],
   "source": [
    "# Find the sum of the elements of X\n",
    "total = sum(x)\n",
    "total"
   ]
  },
  {
   "cell_type": "code",
   "execution_count": 85,
   "metadata": {},
   "outputs": [
    {
     "name": "stdout",
     "output_type": "stream",
     "text": [
      "[1.0, 1.0, 2.0, 3.0, 2.0, 3.0, 1.0, 1.0, 2.0, 3.0, 4.0, 5.0, 5.0, 6.0, 7.0, 8.0, 9.0, 10.0]\n"
     ]
    }
   ],
   "source": [
    "#Construct a list $I$ consisting of all reciprocals of the elements of $x$\n",
    "#1\n",
    "import numpy as np \n",
    "i=[float(i) for i in x]\n",
    "print(i)"
   ]
  },
  {
   "cell_type": "code",
   "execution_count": 88,
   "metadata": {},
   "outputs": [
    {
     "name": "stdout",
     "output_type": "stream",
     "text": [
      "[1.         1.         0.5        0.33333333 0.5        0.33333333\n",
      " 1.         1.         0.5        0.33333333 0.25       0.2\n",
      " 0.2        0.16666667 0.14285714 0.125      0.11111111 0.1       ]\n"
     ]
    }
   ],
   "source": [
    "print(np.reciprocal(i))"
   ]
  },
  {
   "cell_type": "code",
   "execution_count": 99,
   "metadata": {},
   "outputs": [
    {
     "name": "stdout",
     "output_type": "stream",
     "text": [
      "[1.         1.         0.5        0.33333333 0.5        0.33333333\n",
      " 1.         1.         0.5        0.33333333 0.25       0.2\n",
      " 0.2        0.16666667 0.14285714 0.125      0.11111111 0.1       ]\n"
     ]
    }
   ],
   "source": [
    "#2\n",
    "import numpy as np \n",
    "arr = np.array(x) \n",
    "i= 1/arr\n",
    "  \n",
    "print(i) "
   ]
  },
  {
   "cell_type": "markdown",
   "metadata": {},
   "source": [
    "Find the value of the sum\n",
    "$$\\sum_{k=1}^{10}\\frac{1}{3^k}\n",
    "    $$ and calculate its distance from the value of\n",
    "$$\\sum_{k=1}^{\\infty}\\frac{1}{3^k}\n",
    "    $$"
   ]
  },
  {
   "cell_type": "code",
   "execution_count": 106,
   "metadata": {},
   "outputs": [
    {
     "data": {
      "text/plain": [
       "0.49999153245609573"
      ]
     },
     "execution_count": 106,
     "metadata": {},
     "output_type": "execute_result"
    }
   ],
   "source": [
    "first=sum(1/(3**k) for k in range(1,11))\n",
    "first"
   ]
  },
  {
   "cell_type": "markdown",
   "metadata": {},
   "source": [
    "$$\\sum_{k=1}^{\\infty}\\frac{1}{3^k}=1/2\n",
    "    $$"
   ]
  },
  {
   "cell_type": "code",
   "execution_count": 9,
   "metadata": {},
   "outputs": [
    {
     "data": {
      "text/plain": [
       "8.467543904266961e-06"
      ]
     },
     "execution_count": 106,
     "metadata": {},
     "output_type": "execute_result"
    }
   ],
   "source": [
    "first=sum(1/(3**k) for k in range(1,11))\n",
    "first"
   ]
  },
  {
   "cell_type": "code",
   "execution_count": 2,
   "metadata": {},
   "outputs": [],
   "source": [
    "#import math \n",
    "#second=sum(1/(3**k) for k in range(1,))\n",
    "#second"
   ]
  },
  {
   "cell_type": "code",
   "execution_count": 136,
   "metadata": {},
   "outputs": [
    {
     "name": "stdout",
     "output_type": "stream",
     "text": [
      "h\n",
      "o\n",
      "o\n",
      "n\n",
      "n\n",
      "f\n",
      "h\n",
      "a\n",
      "n\n",
      "a\n",
      "i\n",
      "s\n",
      "n\n"
     ]
    }
   ],
   "source": [
    "#Keep, in the list `sec`, second letters of all words in the following sentence:\",\n",
    "# \"The longest word in any of the major English language dictionaries is pneumonoultramicroscopicsilicovolcanoconiosis.\"\n",
    "sentence=\"The longest word in any of the major English language dictionaries is pneumonoultramicroscopicsilicovolcanoconiosis.\"\n",
    "splitted=sentence.split()\n",
    "splitted_list=list(splitted)\n",
    "\n",
    "def second_letter(x):\n",
    "    for word in x:\n",
    "        if len(word) > 1:\n",
    "            print(word[1])\n",
    "sec=second_letter(splitted_list)\n",
    "sec"
   ]
  },
  {
   "cell_type": "markdown",
   "metadata": {},
   "source": [
    "Problem 03.The longest word in English is, according to several sources, **Pneumonoultramicroscopicsilicovolcanoconiosis**"
   ]
  },
  {
   "cell_type": "code",
   "execution_count": 139,
   "metadata": {},
   "outputs": [
    {
     "data": {
      "text/plain": [
       "45"
      ]
     },
     "execution_count": 139,
     "metadata": {},
     "output_type": "execute_result"
    }
   ],
   "source": [
    "# Find the number of letters in this word\n",
    "string='Pneumonoultramicroscopicsilicovolcanoconiosis'\n",
    "len(string)"
   ]
  },
  {
   "cell_type": "code",
   "execution_count": 140,
   "metadata": {},
   "outputs": [
    {
     "data": {
      "text/plain": [
       "9"
      ]
     },
     "execution_count": 140,
     "metadata": {},
     "output_type": "execute_result"
    }
   ],
   "source": [
    "#Find the number of letters \"o\" in this word\n",
    "string.count('o')"
   ]
  },
  {
   "cell_type": "code",
   "execution_count": 147,
   "metadata": {},
   "outputs": [
    {
     "name": "stdout",
     "output_type": "stream",
     "text": [
      "20\n"
     ]
    }
   ],
   "source": [
    "#Find the number of vowels in this word\n",
    "vowels=0\n",
    "for letter in string:\n",
    "      if(letter=='a' or letter=='e' or letter=='i' or letter=='o' or letter=='u' or letter=='A' or letter=='E' or letter=='I' or letter=='O' or letter=='U'):\n",
    "            vowels=vowels+1\n",
    "print(vowels)"
   ]
  },
  {
   "cell_type": "code",
   "execution_count": 148,
   "metadata": {},
   "outputs": [
    {
     "data": {
      "text/plain": [
       "15"
      ]
     },
     "execution_count": 148,
     "metadata": {},
     "output_type": "execute_result"
    }
   ],
   "source": [
    "#Find how many different letters are there in this word\n",
    "different_letters=[]                         \n",
    "for letter in string:\n",
    "    if letter not in different_letters:\n",
    "        different_letters.append(letter)      \n",
    "len(different_letters) "
   ]
  }
 ],
 "metadata": {
  "kernelspec": {
   "display_name": "Python 3",
   "language": "python",
   "name": "python3"
  },
  "language_info": {
   "codemirror_mode": {
    "name": "ipython",
    "version": 3
   },
   "file_extension": ".py",
   "mimetype": "text/x-python",
   "name": "python",
   "nbconvert_exporter": "python",
   "pygments_lexer": "ipython3",
   "version": "3.7.6"
  }
 },
 "nbformat": 4,
 "nbformat_minor": 4
}
